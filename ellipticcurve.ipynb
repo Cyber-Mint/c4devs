{
 "cells": [
  {
   "cell_type": "markdown",
   "metadata": {},
   "source": [
    "# EC Cryptography\n",
    "\n",
    "![ec](./elliptic-curve-add.png)\n",
    "\n",
    "Elliptical curve cryptography (ECC) is an area of public key cryptography (not a specific algorithm) based on elliptic curve theory that can be used to create faster, smaller, and more efficient cryptographic keys. ECC generates keys through the properties of the elliptic curve equation instead of the traditional method of generation as the product of very large prime numbers.  Ref: https://uwillnvrknow.github.io/deCryptMe/pages/ellipticCurve.html\n",
    "\n",
    "The way EC keys are used is similar to RSA with the exception that persistent re-usable keys do not provide for good forward security. So we tend to not encrypt directly with our EC keys. We do use ephemeral EC keys when exchanging a Symmetric key **ECDHE** and when Signing with **ECDSA.**"
   ]
  },
  {
   "cell_type": "markdown",
   "metadata": {},
   "source": [
    "## ECHDE\n",
    "EC Diffie Hellman Exhange is a key exchange mechanism that uses ephemeral EC keys to exchange a robust secret for mutual use.\n",
    "\n",
    "Traditional DH exchange uses the principles used by RSA to share public key components (which are prime exponents) whereas ECDHE exchanges ephemeral (generated just for this purpose) EC public keys (which are just points on an elliptic curve) using the following logic.  These keys are used by each party to create a common key (integer pair) by multiply each others public key with their own private key (the x value of another point on the elliptic curve). EC mathematical magic is such that Alice's (a,b) shares her public key b with Bob (c,d) who in turn creates m=b.c and Bob in turns shares his public key d and Alice creates m=d.a\n",
    "\n",
    "Now they both have a key not known to anybody else called m, which they may use to exchange further information securely.\n"
   ]
  },
  {
   "cell_type": "markdown",
   "metadata": {},
   "source": [
    "> `sudo python3 -m pip install tinyec`"
   ]
  },
  {
   "cell_type": "code",
   "execution_count": 2,
   "metadata": {},
   "outputs": [],
   "source": [
    "from tinyec import registry\n",
    "import secrets\n",
    "\n",
    "# registry.EC_CURVE_REGISTRY"
   ]
  },
  {
   "cell_type": "code",
   "execution_count": 4,
   "metadata": {},
   "outputs": [
    {
     "name": "stdout",
     "output_type": "stream",
     "text": [
      "Alice public key: 0x6c108ebac54f5b7a1829c4bbe31791debfa63e5e69ce026e61b7265885915c70\n",
      "Bob public key: 0x91dc69d4075a8ba81511eeb18507c505dc9a2534dcbb5ed68ee637863121e3591\n",
      "Now exchange the public keys (e.g. through Internet)\n",
      "Alice shared key: 0x247ca108bb540358a9f1e4c049dfc871e1d9011be2471a2cd88e66add14bf45d1\n",
      "Bob shared key: 0x247ca108bb540358a9f1e4c049dfc871e1d9011be2471a2cd88e66add14bf45d1\n",
      "Equal shared keys: True\n"
     ]
    }
   ],
   "source": [
    "def compress(pubKey):\n",
    "    return hex(pubKey.x) + hex(pubKey.y % 2)[2:]\n",
    "\n",
    "curve = registry.get_curve('brainpoolP256r1')\n",
    "\n",
    "alicePrivKey = secrets.randbelow(curve.field.n)\n",
    "alicePubKey = alicePrivKey * curve.g\n",
    "print(\"Alice public key:\", compress(alicePubKey))\n",
    "\n",
    "bobPrivKey = secrets.randbelow(curve.field.n)\n",
    "bobPubKey = bobPrivKey * curve.g\n",
    "print(\"Bob public key:\", compress(bobPubKey))\n",
    "\n",
    "print(\"Now exchange the public keys (e.g. through Internet)\")\n",
    "\n",
    "aliceSharedKey = alicePrivKey * bobPubKey\n",
    "print(\"Alice shared key:\", compress(aliceSharedKey))\n",
    "\n",
    "bobSharedKey = bobPrivKey * alicePubKey\n",
    "print(\"Bob shared key:\", compress(bobSharedKey))\n",
    "\n",
    "print(\"Equal shared keys:\", aliceSharedKey == bobSharedKey)"
   ]
  },
  {
   "cell_type": "markdown",
   "metadata": {},
   "source": [
    "In practice this calculated shared key would then be passed through a key spreading algorithm such as `hkdef` of `pbkdf2` for additional strength and to ensure the key length was always as required."
   ]
  },
  {
   "cell_type": "markdown",
   "metadata": {},
   "source": [
    "# ECDSA\n",
    "\n",
    "Elliptic Curve Digital Signature Algorithm uses the properties of Elliptic Curves to allow for signatures and signature verification, so without drowing in the mathematics, we shall use the Python package, which implements the ECDSA signature algorithm with the curve secp256k1 (used in the Bitcoin cryptography), as well as many other functionalities related to the Bitcoin blockchain.\n",
    "\n",
    "> `python3 -m pip install ecpy`"
   ]
  },
  {
   "cell_type": "code",
   "execution_count": 6,
   "metadata": {},
   "outputs": [],
   "source": [
    "from ecpy.curves     import Curve,Point\n",
    "from ecpy.keys       import ECPublicKey, ECPrivateKey\n",
    "from ecpy.ecdsa      import ECDSA\n",
    "\n",
    "cv     = Curve.get_curve('secp256k1')\n",
    "pu_key = ECPublicKey(Point(0x65d5b8bf9ab1801c9f168d4815994ad35f1dcb6ae6c7a1a303966b677b813b00,\n",
    "\n",
    "                           0xe6b865e529b8ecbf71cf966e900477d49ced5846d7662dd2dd11ccd55c0aff7f,\n",
    "                           cv))\n",
    "pv_key = ECPrivateKey(0xfb26a4e75eec75544c0f44e937dcf5ee6355c7176600b9688c667e5c283b43c5,\n",
    "                      cv)\n",
    "\n",
    "\n",
    "signer = ECDSA()\n",
    "# we typically sign a hash of the message as the message may be too long..\n",
    "sig    = signer.sign(b'01234567890123456789012345678912',pv_key)\n",
    "\n",
    "# we may safely distribute our EC public key as we don't use the corresponding provate key for anything else except signing\n",
    "assert(signer.verify(b'01234567890123456789012345678912',sig,pu_key))"
   ]
  },
  {
   "cell_type": "markdown",
   "metadata": {},
   "source": [
    "## openssl and ECDSA\n",
    "\n",
    "It is extremely useful as a developer to be able to cross reference your work in code with the openssl library by using the cli.\n",
    "\n",
    "So lets create some EC keys and do some signing at the CLI\n",
    "\n",
    "```\n",
    "openssl ecparam -name prime256v1 -genkey -out sk.pem\n",
    "openssl ec -in sk.pem -pubout -out vk.pem\n",
    "echo \"data for signing\" > data\n",
    "openssl dgst -sha256 -sign sk.pem -out data.sig data\n",
    "openssl dgst -sha256 -verify vk.pem -signature data.sig data\n",
    "openssl dgst -sha256 -prverify sk.pem -signature data.sig data\n",
    "```\n",
    "\n",
    "now lets do the same in code using the `ecdsa` library.\n",
    "\n",
    "> sudo python3 -m pip install ecdsa\n"
   ]
  },
  {
   "cell_type": "code",
   "execution_count": 8,
   "metadata": {},
   "outputs": [],
   "source": [
    "import hashlib\n",
    "from ecdsa import SigningKey, VerifyingKey\n",
    "from ecdsa.util import sigencode_der, sigdecode_der\n",
    "\n",
    "with open(\"vk.pem\") as f:\n",
    "   vk = VerifyingKey.from_pem(f.read())\n",
    "\n",
    "with open(\"data\", \"rb\") as f:\n",
    "   data = f.read()\n",
    "\n",
    "with open(\"data.sig\", \"rb\") as f:\n",
    "   signature = f.read()\n",
    "\n",
    "assert vk.verify(signature, data, hashlib.sha256, sigdecode=sigdecode_der)\n",
    "\n",
    "with open(\"sk.pem\") as f:\n",
    "   sk = SigningKey.from_pem(f.read(), hashlib.sha256)\n",
    "\n",
    "new_signature = sk.sign_deterministic(data, sigencode=sigencode_der)\n",
    "\n",
    "with open(\"data.sig2\", \"wb\") as f:\n",
    "   f.write(new_signature)\n"
   ]
  },
  {
   "cell_type": "markdown",
   "metadata": {},
   "source": [
    "and check the final sig2 with `openssl dgst -sha256 -verify vk.pem -signature data.sig2 data`\n",
    "and alwys interesting to see how an ec key is structured in a PEM file `openssl ec -in sk.pem -text -noout`"
   ]
  }
 ],
 "metadata": {
  "interpreter": {
   "hash": "916dbcbb3f70747c44a77c7bcd40155683ae19c65e1c03b4aa3499c5328201f1"
  },
  "kernelspec": {
   "display_name": "Python 3.9.7 64-bit",
   "language": "python",
   "name": "python3"
  },
  "language_info": {
   "codemirror_mode": {
    "name": "ipython",
    "version": 3
   },
   "file_extension": ".py",
   "mimetype": "text/x-python",
   "name": "python",
   "nbconvert_exporter": "python",
   "pygments_lexer": "ipython3",
   "version": "3.10.12"
  },
  "orig_nbformat": 4
 },
 "nbformat": 4,
 "nbformat_minor": 2
}
