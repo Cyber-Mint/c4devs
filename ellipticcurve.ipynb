{
 "cells": [
  {
   "cell_type": "markdown",
   "metadata": {},
   "source": [
    "# EC Cryptography\n",
    "\n",
    "![ec](./elliptic-curve-add.png)\n",
    "\n",
    "Elliptical curve cryptography (ECC) is an area of public key cryptography (not a specific algorithm) based on elliptic curve theory that can be used to create faster, smaller, and more efficient cryptographic keys. ECC generates keys through the properties of the elliptic curve equation instead of the traditional method of generation as the product of very large prime numbers.  Ref: https://uwillnvrknow.github.io/deCryptMe/pages/ellipticCurve.html\n",
    "\n",
    "The way EC keys are used is similar to RSA with the exception that persistent re-usable keys do not provide for good forward security. So we tend to not encrypt directly with our EC keys. We do use ephemeral EC keys when exchanging a Symmetric key **ECDHE** and when Signing with **ECDSA.**"
   ]
  },
  {
   "cell_type": "markdown",
   "metadata": {},
   "source": [
    "## ECHDE\n",
    "EC Diffie Hellman Exhange is a key exchange mechanism that uses ephemeral EC keys to exchange a robust secret for mutual use.\n",
    "\n",
    "Traditional DH exchange uses the principles used by RSA to share public key components (which are prime exponents) whereas ECDHE exchanges ephemeral (generated just for this purpose) EC public keys (which are just points on an elliptic curve) using the following logic.  These keys are used by each party to create a common key (integer pair) by multiply each others public key with their own private key (the x value of another point on the elliptic curve). EC mathematical magic is such that Alice's (a,b) shares her public key b with Bob (c,d) who in turn creates m=b.c and Bob in turns shares his public key d and Alice creates m=d.a\n",
    "\n",
    "Now they both have a key not known to anybody else called m, which they may use to exchange further information securely.\n"
   ]
  },
  {
   "cell_type": "markdown",
   "metadata": {},
   "source": [
    "> `sudo python3 -m pip install tinyec`"
   ]
  },
  {
   "cell_type": "code",
   "execution_count": 15,
   "metadata": {},
   "outputs": [],
   "source": [
    "from tinyec import registry\n",
    "import secrets\n",
    "\n",
    "# registry.EC_CURVE_REGISTRY\n",
    "\n"
   ]
  },
  {
   "cell_type": "code",
   "execution_count": 17,
   "metadata": {},
   "outputs": [
    {
     "name": "stdout",
     "output_type": "stream",
     "text": [
      "Alice public key: 0x26a095ef9b588166beb29ae4f27c50f3c6a4a721600e826aa2f49a4f2b76ddf51\n",
      "Bob public key: 0x9ef72e65d0811174e255ea583e929a047692949c63ca32fdb144dddf38b4cb721\n",
      "Now exchange the public keys (e.g. through Internet)\n",
      "Alice shared key: 0x3291272d0850e7a042b9faed711649a9152f24fda48c89f328f2a17a4622ba4b0\n",
      "Bob shared key: 0x3291272d0850e7a042b9faed711649a9152f24fda48c89f328f2a17a4622ba4b0\n",
      "Equal shared keys: True\n"
     ]
    }
   ],
   "source": [
    "def compress(pubKey):\n",
    "    return hex(pubKey.x) + hex(pubKey.y % 2)[2:]\n",
    "\n",
    "curve = registry.get_curve('brainpoolP256r1')\n",
    "\n",
    "alicePrivKey = secrets.randbelow(curve.field.n)\n",
    "alicePubKey = alicePrivKey * curve.g\n",
    "print(\"Alice public key:\", compress(alicePubKey))\n",
    "\n",
    "bobPrivKey = secrets.randbelow(curve.field.n)\n",
    "bobPubKey = bobPrivKey * curve.g\n",
    "print(\"Bob public key:\", compress(bobPubKey))\n",
    "\n",
    "print(\"Now exchange the public keys (e.g. through Internet)\")\n",
    "\n",
    "aliceSharedKey = alicePrivKey * bobPubKey\n",
    "print(\"Alice shared key:\", compress(aliceSharedKey))\n",
    "\n",
    "bobSharedKey = bobPrivKey * alicePubKey\n",
    "print(\"Bob shared key:\", compress(bobSharedKey))\n",
    "\n",
    "print(\"Equal shared keys:\", aliceSharedKey == bobSharedKey)"
   ]
  },
  {
   "cell_type": "markdown",
   "metadata": {},
   "source": [
    "In practice this calculated shared key would then be passed through a key spreading algorithm such as `hkdef` of `pbkdf2` for additional strength and to ensure the key length was always as required."
   ]
  }
 ],
 "metadata": {
  "interpreter": {
   "hash": "916dbcbb3f70747c44a77c7bcd40155683ae19c65e1c03b4aa3499c5328201f1"
  },
  "kernelspec": {
   "display_name": "Python 3.9.7 64-bit",
   "language": "python",
   "name": "python3"
  },
  "language_info": {
   "codemirror_mode": {
    "name": "ipython",
    "version": 3
   },
   "file_extension": ".py",
   "mimetype": "text/x-python",
   "name": "python",
   "nbconvert_exporter": "python",
   "pygments_lexer": "ipython3",
   "version": "3.9.7"
  },
  "orig_nbformat": 4
 },
 "nbformat": 4,
 "nbformat_minor": 2
}
